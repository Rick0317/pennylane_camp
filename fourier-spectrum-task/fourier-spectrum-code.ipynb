{
 "cells": [
  {
   "cell_type": "code",
   "execution_count": 2,
   "id": "31fdbf1a",
   "metadata": {},
   "outputs": [],
   "source": [
    "import functools\n",
    "import json\n",
    "import math\n",
    "import pandas as pd\n",
    "import pennylane as qml\n",
    "import pennylane.numpy as np\n",
    "import scipy"
   ]
  },
  {
   "cell_type": "code",
   "execution_count": 4,
   "id": "55cfb2e9",
   "metadata": {},
   "outputs": [],
   "source": [
    "def quantum_model(n, train_params, x, model_type):\n",
    "    \"\"\"\n",
    "    Builds an in-series or parallel quantum model according to the specifications in the problem statement, returning\n",
    "    the expectation value on the first wire.\n",
    "\n",
    "    Args: \n",
    "        n (int): The total number of encoding gates. Assumed to be smaller than,\n",
    "                or equal to, the number of wires (3).\n",
    "        train_params (list(float)): A list of length n + 1, which indicates the rotation parameter characterizing\n",
    "                    the trainable circuit. If the circuit is parallel, only the first two parameters are used.\n",
    "        x (float): A real number representing the input data point.\n",
    "        model_type (str): A string that is \"series\" or \"parallel\", depending on the type of model.  \n",
    "\n",
    "    Returns: \n",
    "        (float): The expectation value of PauliZ measurements on the first wire.\n",
    "    \"\"\" \n",
    "    \n",
    "    num_wires=3\n",
    "\n",
    "    dev = qml.device('default.qubit', wires = num_wires)\n",
    "\n",
    "    # Write any helper functions, such as subcircuits you may use later, here.\n",
    "\n",
    "    @qml.qnode(dev)\n",
    "    def circuit(n, train_params, x, model_type):\n",
    "        if model_type == \"parallel\":\n",
    "            # Put your code here #\n",
    "            for k in range(3):\n",
    "                l = (k + 1) % 3\n",
    "                qml.Hadamard(wires=k)\n",
    "                qml.CRX(phi=train_params[0], wires=[k, l])\n",
    "            for k in range(3):\n",
    "                qml.RX(x, wires=k)\n",
    "            for k in range(3):\n",
    "                l = (k + 1) % 3\n",
    "                qml.Hadamard(wires=k)\n",
    "                qml.CRX(phi=train_params[1], wires=[k, l])\n",
    "        elif model_type == \"series\":\n",
    "            # Put your code here #\n",
    "            for i in range(n):\n",
    "                for k in range(3):\n",
    "                    l = (k + 1) % 3\n",
    "                    qml.Hadamard(wires=k)\n",
    "                    qml.CRX(phi=train_params[i], wires=[k, l])\n",
    "                qml.RX(x, wires=0)\n",
    "            for k in range(3):\n",
    "                l = (k + 1) % 3\n",
    "                qml.Hadamard(wires=k)\n",
    "                qml.CRX(phi=train_params[n], wires=[k, l])\n",
    "        \n",
    "        # Return an expectation value\n",
    "        return qml.expval(qml.PauliZ(0))\n",
    "\n",
    "    # Finally, return a float, not a numpy tensor. You can do this using the .numpy() method!\n",
    "    return circuit(n, train_params, x, model_type).numpy()"
   ]
  },
  {
   "cell_type": "code",
   "execution_count": 5,
   "id": "f36a3725",
   "metadata": {},
   "outputs": [],
   "source": [
    "# These functions are responsible for testing the solution.\n",
    "\n",
    "def run(test_case_input: str) -> str:\n",
    "\n",
    "    ins = json.loads(test_case_input)\n",
    "    output = quantum_model(*ins)\n",
    "\n",
    "    return str(output)\n",
    "\n",
    "def check(solution_output: str, expected_output: str) -> None:\n",
    "    \"\"\"\n",
    "    Compare solution with expected.\n",
    "\n",
    "    Args:\n",
    "            solution_output: The output from an evaluated solution. Will be\n",
    "            the same type as returned.\n",
    "            expected_output: The correct result for the test case.\n",
    "\n",
    "    Raises: \n",
    "            ``AssertionError`` if the solution output is incorrect in any way.\n",
    "    \"\"\"\n",
    "\n",
    "    solution_output = json.loads(solution_output)\n",
    "    expected_output = json.loads(expected_output)\n",
    "    assert np.allclose(\n",
    "        solution_output, expected_output, rtol=1e-2\n",
    "    ), \"Your circuit doesn't look quite right.\"\n"
   ]
  },
  {
   "cell_type": "code",
   "execution_count": 6,
   "id": "9006b490",
   "metadata": {},
   "outputs": [
    {
     "ename": "NameError",
     "evalue": "name 'test_cases' is not defined",
     "output_type": "error",
     "traceback": [
      "\u001b[1;31m---------------------\u001b[0m",
      "\u001b[1;31mNameError\u001b[0mTraceback (most recent call last)",
      "Cell \u001b[1;32mIn [6], line 1\u001b[0m\n\u001b[1;32m----> 1\u001b[0m \u001b[38;5;28;01mfor\u001b[39;00m i, (input_, expected_output) \u001b[38;5;129;01min\u001b[39;00m \u001b[38;5;28menumerate\u001b[39m(test_cases):\n\u001b[0;32m      2\u001b[0m     \u001b[38;5;28mprint\u001b[39m(\u001b[38;5;124mf\u001b[39m\u001b[38;5;124m\"\u001b[39m\u001b[38;5;124mRunning test case \u001b[39m\u001b[38;5;132;01m{\u001b[39;00mi\u001b[38;5;132;01m}\u001b[39;00m\u001b[38;5;124m with input \u001b[39m\u001b[38;5;124m'\u001b[39m\u001b[38;5;132;01m{\u001b[39;00minput_\u001b[38;5;132;01m}\u001b[39;00m\u001b[38;5;124m'\u001b[39m\u001b[38;5;124m...\u001b[39m\u001b[38;5;124m\"\u001b[39m)\n\u001b[0;32m      4\u001b[0m     \u001b[38;5;28;01mtry\u001b[39;00m:\n",
      "\u001b[1;31mNameError\u001b[0m: name 'test_cases' is not defined"
     ]
    }
   ],
   "source": [
    "for i, (input_, expected_output) in enumerate(test_cases):\n",
    "    print(f\"Running test case {i} with input '{input_}'...\")\n",
    "\n",
    "    try:\n",
    "        output = run(input_)\n",
    "\n",
    "    except Exception as exc:\n",
    "        print(f\"Runtime Error. {exc}\")\n",
    "\n",
    "    else:\n",
    "        if message := check(output, expected_output):\n",
    "            print(f\"Wrong Answer. Have: '{output}'. Want: '{expected_output}'.\")\n",
    "\n",
    "        else:\n",
    "            print(\"Correct!\")"
   ]
  }
 ],
 "metadata": {
  "kernelspec": {
   "display_name": "Python 3 (ipykernel)",
   "language": "python",
   "name": "python3"
  },
  "language_info": {
   "codemirror_mode": {
    "name": "ipython",
    "version": 3
   },
   "file_extension": ".py",
   "mimetype": "text/x-python",
   "name": "python",
   "nbconvert_exporter": "python",
   "pygments_lexer": "ipython3",
   "version": "3.9.12"
  }
 },
 "nbformat": 4,
 "nbformat_minor": 5
}
