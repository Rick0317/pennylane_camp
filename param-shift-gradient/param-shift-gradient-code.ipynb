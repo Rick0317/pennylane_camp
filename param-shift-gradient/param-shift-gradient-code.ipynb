{
 "cells": [
  {
   "cell_type": "code",
   "execution_count": 1,
   "id": "47965c2b",
   "metadata": {},
   "outputs": [],
   "source": [
    "import functools\n",
    "import json\n",
    "import math\n",
    "import pandas as pd\n",
    "import pennylane as qml\n",
    "import pennylane.numpy as np\n",
    "import scipy"
   ]
  },
  {
   "cell_type": "code",
   "execution_count": 2,
   "id": "3eda57c7",
   "metadata": {},
   "outputs": [],
   "source": [
    "dev = qml.device(\"default.qubit\", wires=2)\n",
    "\n",
    "@qml.qnode(dev)\n",
    "def circuit(params):\n",
    "    \"\"\"The quantum circuit that you will differentiate!\n",
    "\n",
    "    Args:\n",
    "        params (list(float)): The parameters for gates in the circuit\n",
    "\n",
    "    Returns:\n",
    "        (numpy.array): An expectation value.\n",
    "    \"\"\"\n",
    "    qml.RY(params[0], 0)\n",
    "    qml.RX(params[1], 1)\n",
    "    return qml.expval(qml.PauliZ(0) + qml.PauliZ(1))"
   ]
  },
  {
   "cell_type": "code",
   "execution_count": 10,
   "id": "7bab75c7",
   "metadata": {},
   "outputs": [],
   "source": [
    "def my_parameter_shift_grad(params, shift):\n",
    "    \"\"\"Your homemade parameter-shift rule function.\n",
    "    \n",
    "    NOTE: you cannot use qml.grad within this function\n",
    "\n",
    "    Args:\n",
    "        params (list(float)): The parameters for gates in the circuit\n",
    "\n",
    "    Returns:\n",
    "        gradient (numpy.array): The gradient of the circuit with respect to the given parameters.\n",
    "    \"\"\"\n",
    "    gradient = np.zeros_like(params)\n",
    "\n",
    "    for i in range(len(params)):\n",
    "        # Put your code here #\n",
    "        p, q = [k for k in params], [l for l in params]\n",
    "        p[i] += shift\n",
    "        q[i] -= shift\n",
    "        gradient[i] = ( circuit(p) - circuit(q) ) / (2 * np.sin(shift) )\n",
    "\n",
    "    return np.round_(gradient, decimals=5).tolist()\n"
   ]
  },
  {
   "cell_type": "code",
   "execution_count": 4,
   "id": "0949e1fb",
   "metadata": {},
   "outputs": [],
   "source": [
    "# These functions are responsible for testing the solution.\n",
    "\n",
    "def run(test_case_input: str) -> str:\n",
    "    params, shift = json.loads(test_case_input)\n",
    "    gradient = my_parameter_shift_grad(params, shift)\n",
    "    return str(gradient)\n",
    "\n",
    "def check(solution_output: str, expected_output: str) -> None:\n",
    "    solution_output = json.loads(solution_output)\n",
    "    expected_output = json.loads(expected_output)\n",
    "    assert np.allclose(\n",
    "        solution_output, expected_output, rtol=1e-4\n",
    "    ), \"Your gradient isn't quite right!\"\n"
   ]
  },
  {
   "cell_type": "code",
   "execution_count": 5,
   "id": "4610b73e",
   "metadata": {},
   "outputs": [],
   "source": [
    "test_cases = [['[[0.75, 1.0], 1.23]', '[-0.68164, -0.84147]']]"
   ]
  },
  {
   "cell_type": "code",
   "execution_count": 11,
   "id": "fdc50671",
   "metadata": {},
   "outputs": [
    {
     "name": "stdout",
     "output_type": "stream",
     "text": [
      "Running test case 0 with input '[[0.75, 1.0], 1.23]'...\n",
      "[-0.68164, -0.84147]\n",
      "Correct!\n"
     ]
    }
   ],
   "source": [
    "for i, (input_, expected_output) in enumerate(test_cases):\n",
    "    print(f\"Running test case {i} with input '{input_}'...\")\n",
    "\n",
    "    try:\n",
    "        output = run(input_)\n",
    "\n",
    "    except Exception as exc:\n",
    "        print(f\"Runtime Error. {exc}\")\n",
    "\n",
    "    else:\n",
    "        print(output)\n",
    "        if message := check(output, expected_output):\n",
    "            print(f\"Wrong Answer. Have: '{output}'. Want: '{expected_output}'.\")\n",
    "\n",
    "        else:\n",
    "            print(\"Correct!\")"
   ]
  }
 ],
 "metadata": {
  "kernelspec": {
   "display_name": "Python 3 (ipykernel)",
   "language": "python",
   "name": "python3"
  },
  "language_info": {
   "codemirror_mode": {
    "name": "ipython",
    "version": 3
   },
   "file_extension": ".py",
   "mimetype": "text/x-python",
   "name": "python",
   "nbconvert_exporter": "python",
   "pygments_lexer": "ipython3",
   "version": "3.9.12"
  }
 },
 "nbformat": 4,
 "nbformat_minor": 5
}
